{
  "nbformat": 4,
  "nbformat_minor": 0,
  "metadata": {
    "colab": {
      "name": "Kaggle Q&A LSTM Fasttext.ipynb",
      "provenance": [],
      "mount_file_id": "1fxmQ3Vh7CQdWcgFj0VPgV42h2-Y9_DTb",
      "authorship_tag": "ABX9TyMIHnHxRNQ+DkVzHXhbNdc1",
      "include_colab_link": true
    },
    "kernelspec": {
      "name": "python3",
      "display_name": "Python 3"
    },
    "widgets": {
      "application/vnd.jupyter.widget-state+json": {
        "7c7fd055f2c840f4857c3ae1ed183dec": {
          "model_module": "@jupyter-widgets/controls",
          "model_name": "HBoxModel",
          "state": {
            "_view_name": "HBoxView",
            "_dom_classes": [],
            "_model_name": "HBoxModel",
            "_view_module": "@jupyter-widgets/controls",
            "_model_module_version": "1.5.0",
            "_view_count": null,
            "_view_module_version": "1.5.0",
            "box_style": "",
            "layout": "IPY_MODEL_e75f4441a9a14048a52b34fc8f5198a4",
            "_model_module": "@jupyter-widgets/controls",
            "children": [
              "IPY_MODEL_f0bbcef33ec548e0b32ce246b15c6372",
              "IPY_MODEL_6f5ac518d89c448e870854f9ccabd2e6"
            ]
          }
        },
        "e75f4441a9a14048a52b34fc8f5198a4": {
          "model_module": "@jupyter-widgets/base",
          "model_name": "LayoutModel",
          "state": {
            "_view_name": "LayoutView",
            "grid_template_rows": null,
            "right": null,
            "justify_content": null,
            "_view_module": "@jupyter-widgets/base",
            "overflow": null,
            "_model_module_version": "1.2.0",
            "_view_count": null,
            "flex_flow": null,
            "width": null,
            "min_width": null,
            "border": null,
            "align_items": null,
            "bottom": null,
            "_model_module": "@jupyter-widgets/base",
            "top": null,
            "grid_column": null,
            "overflow_y": null,
            "overflow_x": null,
            "grid_auto_flow": null,
            "grid_area": null,
            "grid_template_columns": null,
            "flex": null,
            "_model_name": "LayoutModel",
            "justify_items": null,
            "grid_row": null,
            "max_height": null,
            "align_content": null,
            "visibility": null,
            "align_self": null,
            "height": null,
            "min_height": null,
            "padding": null,
            "grid_auto_rows": null,
            "grid_gap": null,
            "max_width": null,
            "order": null,
            "_view_module_version": "1.2.0",
            "grid_template_areas": null,
            "object_position": null,
            "object_fit": null,
            "grid_auto_columns": null,
            "margin": null,
            "display": null,
            "left": null
          }
        },
        "f0bbcef33ec548e0b32ce246b15c6372": {
          "model_module": "@jupyter-widgets/controls",
          "model_name": "FloatProgressModel",
          "state": {
            "_view_name": "ProgressView",
            "style": "IPY_MODEL_427ba42ae3254f7996d597986341fc39",
            "_dom_classes": [],
            "description": "100%",
            "_model_name": "FloatProgressModel",
            "bar_style": "success",
            "max": 8000,
            "_view_module": "@jupyter-widgets/controls",
            "_model_module_version": "1.5.0",
            "value": 8000,
            "_view_count": null,
            "_view_module_version": "1.5.0",
            "orientation": "horizontal",
            "min": 0,
            "description_tooltip": null,
            "_model_module": "@jupyter-widgets/controls",
            "layout": "IPY_MODEL_beca65c4a23349feb26599968e3a520b"
          }
        },
        "6f5ac518d89c448e870854f9ccabd2e6": {
          "model_module": "@jupyter-widgets/controls",
          "model_name": "HTMLModel",
          "state": {
            "_view_name": "HTMLView",
            "style": "IPY_MODEL_e8eecadc21fb4d84a653fc7c6e9b5a46",
            "_dom_classes": [],
            "description": "",
            "_model_name": "HTMLModel",
            "placeholder": "​",
            "_view_module": "@jupyter-widgets/controls",
            "_model_module_version": "1.5.0",
            "value": " 8000/8000 [00:14&lt;00:00, 554.31it/s]",
            "_view_count": null,
            "_view_module_version": "1.5.0",
            "description_tooltip": null,
            "_model_module": "@jupyter-widgets/controls",
            "layout": "IPY_MODEL_bb1cfb70165040ea8831520f4927aa55"
          }
        },
        "427ba42ae3254f7996d597986341fc39": {
          "model_module": "@jupyter-widgets/controls",
          "model_name": "ProgressStyleModel",
          "state": {
            "_view_name": "StyleView",
            "_model_name": "ProgressStyleModel",
            "description_width": "initial",
            "_view_module": "@jupyter-widgets/base",
            "_model_module_version": "1.5.0",
            "_view_count": null,
            "_view_module_version": "1.2.0",
            "bar_color": null,
            "_model_module": "@jupyter-widgets/controls"
          }
        },
        "beca65c4a23349feb26599968e3a520b": {
          "model_module": "@jupyter-widgets/base",
          "model_name": "LayoutModel",
          "state": {
            "_view_name": "LayoutView",
            "grid_template_rows": null,
            "right": null,
            "justify_content": null,
            "_view_module": "@jupyter-widgets/base",
            "overflow": null,
            "_model_module_version": "1.2.0",
            "_view_count": null,
            "flex_flow": null,
            "width": null,
            "min_width": null,
            "border": null,
            "align_items": null,
            "bottom": null,
            "_model_module": "@jupyter-widgets/base",
            "top": null,
            "grid_column": null,
            "overflow_y": null,
            "overflow_x": null,
            "grid_auto_flow": null,
            "grid_area": null,
            "grid_template_columns": null,
            "flex": null,
            "_model_name": "LayoutModel",
            "justify_items": null,
            "grid_row": null,
            "max_height": null,
            "align_content": null,
            "visibility": null,
            "align_self": null,
            "height": null,
            "min_height": null,
            "padding": null,
            "grid_auto_rows": null,
            "grid_gap": null,
            "max_width": null,
            "order": null,
            "_view_module_version": "1.2.0",
            "grid_template_areas": null,
            "object_position": null,
            "object_fit": null,
            "grid_auto_columns": null,
            "margin": null,
            "display": null,
            "left": null
          }
        },
        "e8eecadc21fb4d84a653fc7c6e9b5a46": {
          "model_module": "@jupyter-widgets/controls",
          "model_name": "DescriptionStyleModel",
          "state": {
            "_view_name": "StyleView",
            "_model_name": "DescriptionStyleModel",
            "description_width": "",
            "_view_module": "@jupyter-widgets/base",
            "_model_module_version": "1.5.0",
            "_view_count": null,
            "_view_module_version": "1.2.0",
            "_model_module": "@jupyter-widgets/controls"
          }
        },
        "bb1cfb70165040ea8831520f4927aa55": {
          "model_module": "@jupyter-widgets/base",
          "model_name": "LayoutModel",
          "state": {
            "_view_name": "LayoutView",
            "grid_template_rows": null,
            "right": null,
            "justify_content": null,
            "_view_module": "@jupyter-widgets/base",
            "overflow": null,
            "_model_module_version": "1.2.0",
            "_view_count": null,
            "flex_flow": null,
            "width": null,
            "min_width": null,
            "border": null,
            "align_items": null,
            "bottom": null,
            "_model_module": "@jupyter-widgets/base",
            "top": null,
            "grid_column": null,
            "overflow_y": null,
            "overflow_x": null,
            "grid_auto_flow": null,
            "grid_area": null,
            "grid_template_columns": null,
            "flex": null,
            "_model_name": "LayoutModel",
            "justify_items": null,
            "grid_row": null,
            "max_height": null,
            "align_content": null,
            "visibility": null,
            "align_self": null,
            "height": null,
            "min_height": null,
            "padding": null,
            "grid_auto_rows": null,
            "grid_gap": null,
            "max_width": null,
            "order": null,
            "_view_module_version": "1.2.0",
            "grid_template_areas": null,
            "object_position": null,
            "object_fit": null,
            "grid_auto_columns": null,
            "margin": null,
            "display": null,
            "left": null
          }
        },
        "2f1f177ba4f44ba8852c3c7652e570e1": {
          "model_module": "@jupyter-widgets/controls",
          "model_name": "HBoxModel",
          "state": {
            "_view_name": "HBoxView",
            "_dom_classes": [],
            "_model_name": "HBoxModel",
            "_view_module": "@jupyter-widgets/controls",
            "_model_module_version": "1.5.0",
            "_view_count": null,
            "_view_module_version": "1.5.0",
            "box_style": "",
            "layout": "IPY_MODEL_c0b8dd5e4b174b35bacdc53554c895e2",
            "_model_module": "@jupyter-widgets/controls",
            "children": [
              "IPY_MODEL_82cba72e59464c9fbb0ccf186499d3f6",
              "IPY_MODEL_4839494516874b2f86921371ccb6abd5"
            ]
          }
        },
        "c0b8dd5e4b174b35bacdc53554c895e2": {
          "model_module": "@jupyter-widgets/base",
          "model_name": "LayoutModel",
          "state": {
            "_view_name": "LayoutView",
            "grid_template_rows": null,
            "right": null,
            "justify_content": null,
            "_view_module": "@jupyter-widgets/base",
            "overflow": null,
            "_model_module_version": "1.2.0",
            "_view_count": null,
            "flex_flow": null,
            "width": null,
            "min_width": null,
            "border": null,
            "align_items": null,
            "bottom": null,
            "_model_module": "@jupyter-widgets/base",
            "top": null,
            "grid_column": null,
            "overflow_y": null,
            "overflow_x": null,
            "grid_auto_flow": null,
            "grid_area": null,
            "grid_template_columns": null,
            "flex": null,
            "_model_name": "LayoutModel",
            "justify_items": null,
            "grid_row": null,
            "max_height": null,
            "align_content": null,
            "visibility": null,
            "align_self": null,
            "height": null,
            "min_height": null,
            "padding": null,
            "grid_auto_rows": null,
            "grid_gap": null,
            "max_width": null,
            "order": null,
            "_view_module_version": "1.2.0",
            "grid_template_areas": null,
            "object_position": null,
            "object_fit": null,
            "grid_auto_columns": null,
            "margin": null,
            "display": null,
            "left": null
          }
        },
        "82cba72e59464c9fbb0ccf186499d3f6": {
          "model_module": "@jupyter-widgets/controls",
          "model_name": "FloatProgressModel",
          "state": {
            "_view_name": "ProgressView",
            "style": "IPY_MODEL_197e62e246af4d91bdb9871824f71263",
            "_dom_classes": [],
            "description": "100%",
            "_model_name": "FloatProgressModel",
            "bar_style": "success",
            "max": 4,
            "_view_module": "@jupyter-widgets/controls",
            "_model_module_version": "1.5.0",
            "value": 4,
            "_view_count": null,
            "_view_module_version": "1.5.0",
            "orientation": "horizontal",
            "min": 0,
            "description_tooltip": null,
            "_model_module": "@jupyter-widgets/controls",
            "layout": "IPY_MODEL_5a38556726cf40a897cdb7c3716c7173"
          }
        },
        "4839494516874b2f86921371ccb6abd5": {
          "model_module": "@jupyter-widgets/controls",
          "model_name": "HTMLModel",
          "state": {
            "_view_name": "HTMLView",
            "style": "IPY_MODEL_638a358e08514900bde997b4e43f44a4",
            "_dom_classes": [],
            "description": "",
            "_model_name": "HTMLModel",
            "placeholder": "​",
            "_view_module": "@jupyter-widgets/controls",
            "_model_module_version": "1.5.0",
            "value": " 4/4 [00:06&lt;00:00,  1.64s/it]",
            "_view_count": null,
            "_view_module_version": "1.5.0",
            "description_tooltip": null,
            "_model_module": "@jupyter-widgets/controls",
            "layout": "IPY_MODEL_7643d07bc67d4e13ad5597b671dd415f"
          }
        },
        "197e62e246af4d91bdb9871824f71263": {
          "model_module": "@jupyter-widgets/controls",
          "model_name": "ProgressStyleModel",
          "state": {
            "_view_name": "StyleView",
            "_model_name": "ProgressStyleModel",
            "description_width": "initial",
            "_view_module": "@jupyter-widgets/base",
            "_model_module_version": "1.5.0",
            "_view_count": null,
            "_view_module_version": "1.2.0",
            "bar_color": null,
            "_model_module": "@jupyter-widgets/controls"
          }
        },
        "5a38556726cf40a897cdb7c3716c7173": {
          "model_module": "@jupyter-widgets/base",
          "model_name": "LayoutModel",
          "state": {
            "_view_name": "LayoutView",
            "grid_template_rows": null,
            "right": null,
            "justify_content": null,
            "_view_module": "@jupyter-widgets/base",
            "overflow": null,
            "_model_module_version": "1.2.0",
            "_view_count": null,
            "flex_flow": null,
            "width": null,
            "min_width": null,
            "border": null,
            "align_items": null,
            "bottom": null,
            "_model_module": "@jupyter-widgets/base",
            "top": null,
            "grid_column": null,
            "overflow_y": null,
            "overflow_x": null,
            "grid_auto_flow": null,
            "grid_area": null,
            "grid_template_columns": null,
            "flex": null,
            "_model_name": "LayoutModel",
            "justify_items": null,
            "grid_row": null,
            "max_height": null,
            "align_content": null,
            "visibility": null,
            "align_self": null,
            "height": null,
            "min_height": null,
            "padding": null,
            "grid_auto_rows": null,
            "grid_gap": null,
            "max_width": null,
            "order": null,
            "_view_module_version": "1.2.0",
            "grid_template_areas": null,
            "object_position": null,
            "object_fit": null,
            "grid_auto_columns": null,
            "margin": null,
            "display": null,
            "left": null
          }
        },
        "638a358e08514900bde997b4e43f44a4": {
          "model_module": "@jupyter-widgets/controls",
          "model_name": "DescriptionStyleModel",
          "state": {
            "_view_name": "StyleView",
            "_model_name": "DescriptionStyleModel",
            "description_width": "",
            "_view_module": "@jupyter-widgets/base",
            "_model_module_version": "1.5.0",
            "_view_count": null,
            "_view_module_version": "1.2.0",
            "_model_module": "@jupyter-widgets/controls"
          }
        },
        "7643d07bc67d4e13ad5597b671dd415f": {
          "model_module": "@jupyter-widgets/base",
          "model_name": "LayoutModel",
          "state": {
            "_view_name": "LayoutView",
            "grid_template_rows": null,
            "right": null,
            "justify_content": null,
            "_view_module": "@jupyter-widgets/base",
            "overflow": null,
            "_model_module_version": "1.2.0",
            "_view_count": null,
            "flex_flow": null,
            "width": null,
            "min_width": null,
            "border": null,
            "align_items": null,
            "bottom": null,
            "_model_module": "@jupyter-widgets/base",
            "top": null,
            "grid_column": null,
            "overflow_y": null,
            "overflow_x": null,
            "grid_auto_flow": null,
            "grid_area": null,
            "grid_template_columns": null,
            "flex": null,
            "_model_name": "LayoutModel",
            "justify_items": null,
            "grid_row": null,
            "max_height": null,
            "align_content": null,
            "visibility": null,
            "align_self": null,
            "height": null,
            "min_height": null,
            "padding": null,
            "grid_auto_rows": null,
            "grid_gap": null,
            "max_width": null,
            "order": null,
            "_view_module_version": "1.2.0",
            "grid_template_areas": null,
            "object_position": null,
            "object_fit": null,
            "grid_auto_columns": null,
            "margin": null,
            "display": null,
            "left": null
          }
        },
        "28f72a12214144769d125103f52be330": {
          "model_module": "@jupyter-widgets/controls",
          "model_name": "HBoxModel",
          "state": {
            "_view_name": "HBoxView",
            "_dom_classes": [],
            "_model_name": "HBoxModel",
            "_view_module": "@jupyter-widgets/controls",
            "_model_module_version": "1.5.0",
            "_view_count": null,
            "_view_module_version": "1.5.0",
            "box_style": "",
            "layout": "IPY_MODEL_6e45c159fe914e2895b9a62a22f6aeee",
            "_model_module": "@jupyter-widgets/controls",
            "children": [
              "IPY_MODEL_00977499089842d5a8ced5c93e9769f1",
              "IPY_MODEL_0db4841e8e7940de937a033809335889"
            ]
          }
        },
        "6e45c159fe914e2895b9a62a22f6aeee": {
          "model_module": "@jupyter-widgets/base",
          "model_name": "LayoutModel",
          "state": {
            "_view_name": "LayoutView",
            "grid_template_rows": null,
            "right": null,
            "justify_content": null,
            "_view_module": "@jupyter-widgets/base",
            "overflow": null,
            "_model_module_version": "1.2.0",
            "_view_count": null,
            "flex_flow": null,
            "width": null,
            "min_width": null,
            "border": null,
            "align_items": null,
            "bottom": null,
            "_model_module": "@jupyter-widgets/base",
            "top": null,
            "grid_column": null,
            "overflow_y": null,
            "overflow_x": null,
            "grid_auto_flow": null,
            "grid_area": null,
            "grid_template_columns": null,
            "flex": null,
            "_model_name": "LayoutModel",
            "justify_items": null,
            "grid_row": null,
            "max_height": null,
            "align_content": null,
            "visibility": null,
            "align_self": null,
            "height": null,
            "min_height": null,
            "padding": null,
            "grid_auto_rows": null,
            "grid_gap": null,
            "max_width": null,
            "order": null,
            "_view_module_version": "1.2.0",
            "grid_template_areas": null,
            "object_position": null,
            "object_fit": null,
            "grid_auto_columns": null,
            "margin": null,
            "display": null,
            "left": null
          }
        },
        "00977499089842d5a8ced5c93e9769f1": {
          "model_module": "@jupyter-widgets/controls",
          "model_name": "FloatProgressModel",
          "state": {
            "_view_name": "ProgressView",
            "style": "IPY_MODEL_9d0dc7c993664105a9c7f6a20a4ae75d",
            "_dom_classes": [],
            "description": " 63%",
            "_model_name": "FloatProgressModel",
            "bar_style": "danger",
            "max": 121606,
            "_view_module": "@jupyter-widgets/controls",
            "_model_module_version": "1.5.0",
            "value": 76597,
            "_view_count": null,
            "_view_module_version": "1.5.0",
            "orientation": "horizontal",
            "min": 0,
            "description_tooltip": null,
            "_model_module": "@jupyter-widgets/controls",
            "layout": "IPY_MODEL_e278cf8a7ce2458ea989772d2c3bb1fe"
          }
        },
        "0db4841e8e7940de937a033809335889": {
          "model_module": "@jupyter-widgets/controls",
          "model_name": "HTMLModel",
          "state": {
            "_view_name": "HTMLView",
            "style": "IPY_MODEL_677d91ce913e4e308c1fff44164cb038",
            "_dom_classes": [],
            "description": "",
            "_model_name": "HTMLModel",
            "placeholder": "​",
            "_view_module": "@jupyter-widgets/controls",
            "_model_module_version": "1.5.0",
            "value": " 76597/121606 [00:01&lt;00:00, 48804.31it/s]",
            "_view_count": null,
            "_view_module_version": "1.5.0",
            "description_tooltip": null,
            "_model_module": "@jupyter-widgets/controls",
            "layout": "IPY_MODEL_2fea5eb25ab445299a1b87a184e95e91"
          }
        },
        "9d0dc7c993664105a9c7f6a20a4ae75d": {
          "model_module": "@jupyter-widgets/controls",
          "model_name": "ProgressStyleModel",
          "state": {
            "_view_name": "StyleView",
            "_model_name": "ProgressStyleModel",
            "description_width": "initial",
            "_view_module": "@jupyter-widgets/base",
            "_model_module_version": "1.5.0",
            "_view_count": null,
            "_view_module_version": "1.2.0",
            "bar_color": null,
            "_model_module": "@jupyter-widgets/controls"
          }
        },
        "e278cf8a7ce2458ea989772d2c3bb1fe": {
          "model_module": "@jupyter-widgets/base",
          "model_name": "LayoutModel",
          "state": {
            "_view_name": "LayoutView",
            "grid_template_rows": null,
            "right": null,
            "justify_content": null,
            "_view_module": "@jupyter-widgets/base",
            "overflow": null,
            "_model_module_version": "1.2.0",
            "_view_count": null,
            "flex_flow": null,
            "width": null,
            "min_width": null,
            "border": null,
            "align_items": null,
            "bottom": null,
            "_model_module": "@jupyter-widgets/base",
            "top": null,
            "grid_column": null,
            "overflow_y": null,
            "overflow_x": null,
            "grid_auto_flow": null,
            "grid_area": null,
            "grid_template_columns": null,
            "flex": null,
            "_model_name": "LayoutModel",
            "justify_items": null,
            "grid_row": null,
            "max_height": null,
            "align_content": null,
            "visibility": null,
            "align_self": null,
            "height": null,
            "min_height": null,
            "padding": null,
            "grid_auto_rows": null,
            "grid_gap": null,
            "max_width": null,
            "order": null,
            "_view_module_version": "1.2.0",
            "grid_template_areas": null,
            "object_position": null,
            "object_fit": null,
            "grid_auto_columns": null,
            "margin": null,
            "display": null,
            "left": null
          }
        },
        "677d91ce913e4e308c1fff44164cb038": {
          "model_module": "@jupyter-widgets/controls",
          "model_name": "DescriptionStyleModel",
          "state": {
            "_view_name": "StyleView",
            "_model_name": "DescriptionStyleModel",
            "description_width": "",
            "_view_module": "@jupyter-widgets/base",
            "_model_module_version": "1.5.0",
            "_view_count": null,
            "_view_module_version": "1.2.0",
            "_model_module": "@jupyter-widgets/controls"
          }
        },
        "2fea5eb25ab445299a1b87a184e95e91": {
          "model_module": "@jupyter-widgets/base",
          "model_name": "LayoutModel",
          "state": {
            "_view_name": "LayoutView",
            "grid_template_rows": null,
            "right": null,
            "justify_content": null,
            "_view_module": "@jupyter-widgets/base",
            "overflow": null,
            "_model_module_version": "1.2.0",
            "_view_count": null,
            "flex_flow": null,
            "width": null,
            "min_width": null,
            "border": null,
            "align_items": null,
            "bottom": null,
            "_model_module": "@jupyter-widgets/base",
            "top": null,
            "grid_column": null,
            "overflow_y": null,
            "overflow_x": null,
            "grid_auto_flow": null,
            "grid_area": null,
            "grid_template_columns": null,
            "flex": null,
            "_model_name": "LayoutModel",
            "justify_items": null,
            "grid_row": null,
            "max_height": null,
            "align_content": null,
            "visibility": null,
            "align_self": null,
            "height": null,
            "min_height": null,
            "padding": null,
            "grid_auto_rows": null,
            "grid_gap": null,
            "max_width": null,
            "order": null,
            "_view_module_version": "1.2.0",
            "grid_template_areas": null,
            "object_position": null,
            "object_fit": null,
            "grid_auto_columns": null,
            "margin": null,
            "display": null,
            "left": null
          }
        },
        "6462fb5de3f042799f2807571e8feae0": {
          "model_module": "@jupyter-widgets/controls",
          "model_name": "HBoxModel",
          "state": {
            "_view_name": "HBoxView",
            "_dom_classes": [],
            "_model_name": "HBoxModel",
            "_view_module": "@jupyter-widgets/controls",
            "_model_module_version": "1.5.0",
            "_view_count": null,
            "_view_module_version": "1.5.0",
            "box_style": "",
            "layout": "IPY_MODEL_b08a9043226d4cffa9b709bcae50d35e",
            "_model_module": "@jupyter-widgets/controls",
            "children": [
              "IPY_MODEL_f939b993353f408596dabc8d522d7962",
              "IPY_MODEL_622d81b89301403baa73eb9631abb15a"
            ]
          }
        },
        "b08a9043226d4cffa9b709bcae50d35e": {
          "model_module": "@jupyter-widgets/base",
          "model_name": "LayoutModel",
          "state": {
            "_view_name": "LayoutView",
            "grid_template_rows": null,
            "right": null,
            "justify_content": null,
            "_view_module": "@jupyter-widgets/base",
            "overflow": null,
            "_model_module_version": "1.2.0",
            "_view_count": null,
            "flex_flow": null,
            "width": null,
            "min_width": null,
            "border": null,
            "align_items": null,
            "bottom": null,
            "_model_module": "@jupyter-widgets/base",
            "top": null,
            "grid_column": null,
            "overflow_y": null,
            "overflow_x": null,
            "grid_auto_flow": null,
            "grid_area": null,
            "grid_template_columns": null,
            "flex": null,
            "_model_name": "LayoutModel",
            "justify_items": null,
            "grid_row": null,
            "max_height": null,
            "align_content": null,
            "visibility": null,
            "align_self": null,
            "height": null,
            "min_height": null,
            "padding": null,
            "grid_auto_rows": null,
            "grid_gap": null,
            "max_width": null,
            "order": null,
            "_view_module_version": "1.2.0",
            "grid_template_areas": null,
            "object_position": null,
            "object_fit": null,
            "grid_auto_columns": null,
            "margin": null,
            "display": null,
            "left": null
          }
        },
        "f939b993353f408596dabc8d522d7962": {
          "model_module": "@jupyter-widgets/controls",
          "model_name": "FloatProgressModel",
          "state": {
            "_view_name": "ProgressView",
            "style": "IPY_MODEL_452a55ea1f794e0ea797adccb6d10b05",
            "_dom_classes": [],
            "description": "",
            "_model_name": "FloatProgressModel",
            "bar_style": "success",
            "max": 1,
            "_view_module": "@jupyter-widgets/controls",
            "_model_module_version": "1.5.0",
            "value": 1,
            "_view_count": null,
            "_view_module_version": "1.5.0",
            "orientation": "horizontal",
            "min": 0,
            "description_tooltip": null,
            "_model_module": "@jupyter-widgets/controls",
            "layout": "IPY_MODEL_ffbd3c958c5c4a478d7b625b240687dd"
          }
        },
        "622d81b89301403baa73eb9631abb15a": {
          "model_module": "@jupyter-widgets/controls",
          "model_name": "HTMLModel",
          "state": {
            "_view_name": "HTMLView",
            "style": "IPY_MODEL_125ffa7dbf4d4751996fe3e8766c752c",
            "_dom_classes": [],
            "description": "",
            "_model_name": "HTMLModel",
            "placeholder": "​",
            "_view_module": "@jupyter-widgets/controls",
            "_model_module_version": "1.5.0",
            "value": " 346/? [00:01&lt;00:00, 244.36it/s]",
            "_view_count": null,
            "_view_module_version": "1.5.0",
            "description_tooltip": null,
            "_model_module": "@jupyter-widgets/controls",
            "layout": "IPY_MODEL_afbb9faa585242d59e43bd0c0c8856a7"
          }
        },
        "452a55ea1f794e0ea797adccb6d10b05": {
          "model_module": "@jupyter-widgets/controls",
          "model_name": "ProgressStyleModel",
          "state": {
            "_view_name": "StyleView",
            "_model_name": "ProgressStyleModel",
            "description_width": "initial",
            "_view_module": "@jupyter-widgets/base",
            "_model_module_version": "1.5.0",
            "_view_count": null,
            "_view_module_version": "1.2.0",
            "bar_color": null,
            "_model_module": "@jupyter-widgets/controls"
          }
        },
        "ffbd3c958c5c4a478d7b625b240687dd": {
          "model_module": "@jupyter-widgets/base",
          "model_name": "LayoutModel",
          "state": {
            "_view_name": "LayoutView",
            "grid_template_rows": null,
            "right": null,
            "justify_content": null,
            "_view_module": "@jupyter-widgets/base",
            "overflow": null,
            "_model_module_version": "1.2.0",
            "_view_count": null,
            "flex_flow": null,
            "width": null,
            "min_width": null,
            "border": null,
            "align_items": null,
            "bottom": null,
            "_model_module": "@jupyter-widgets/base",
            "top": null,
            "grid_column": null,
            "overflow_y": null,
            "overflow_x": null,
            "grid_auto_flow": null,
            "grid_area": null,
            "grid_template_columns": null,
            "flex": null,
            "_model_name": "LayoutModel",
            "justify_items": null,
            "grid_row": null,
            "max_height": null,
            "align_content": null,
            "visibility": null,
            "align_self": null,
            "height": null,
            "min_height": null,
            "padding": null,
            "grid_auto_rows": null,
            "grid_gap": null,
            "max_width": null,
            "order": null,
            "_view_module_version": "1.2.0",
            "grid_template_areas": null,
            "object_position": null,
            "object_fit": null,
            "grid_auto_columns": null,
            "margin": null,
            "display": null,
            "left": null
          }
        },
        "125ffa7dbf4d4751996fe3e8766c752c": {
          "model_module": "@jupyter-widgets/controls",
          "model_name": "DescriptionStyleModel",
          "state": {
            "_view_name": "StyleView",
            "_model_name": "DescriptionStyleModel",
            "description_width": "",
            "_view_module": "@jupyter-widgets/base",
            "_model_module_version": "1.5.0",
            "_view_count": null,
            "_view_module_version": "1.2.0",
            "_model_module": "@jupyter-widgets/controls"
          }
        },
        "afbb9faa585242d59e43bd0c0c8856a7": {
          "model_module": "@jupyter-widgets/base",
          "model_name": "LayoutModel",
          "state": {
            "_view_name": "LayoutView",
            "grid_template_rows": null,
            "right": null,
            "justify_content": null,
            "_view_module": "@jupyter-widgets/base",
            "overflow": null,
            "_model_module_version": "1.2.0",
            "_view_count": null,
            "flex_flow": null,
            "width": null,
            "min_width": null,
            "border": null,
            "align_items": null,
            "bottom": null,
            "_model_module": "@jupyter-widgets/base",
            "top": null,
            "grid_column": null,
            "overflow_y": null,
            "overflow_x": null,
            "grid_auto_flow": null,
            "grid_area": null,
            "grid_template_columns": null,
            "flex": null,
            "_model_name": "LayoutModel",
            "justify_items": null,
            "grid_row": null,
            "max_height": null,
            "align_content": null,
            "visibility": null,
            "align_self": null,
            "height": null,
            "min_height": null,
            "padding": null,
            "grid_auto_rows": null,
            "grid_gap": null,
            "max_width": null,
            "order": null,
            "_view_module_version": "1.2.0",
            "grid_template_areas": null,
            "object_position": null,
            "object_fit": null,
            "grid_auto_columns": null,
            "margin": null,
            "display": null,
            "left": null
          }
        }
      }
    },
    "accelerator": "GPU"
  },
  "cells": [
    {
      "cell_type": "markdown",
      "metadata": {
        "id": "view-in-github",
        "colab_type": "text"
      },
      "source": [
        "<a href=\"https://colab.research.google.com/github/bob123kk/NLP-Question-Answering/blob/master/Kaggle_Q%26A_LSTM_Fasttext.ipynb\" target=\"_parent\"><img src=\"https://colab.research.google.com/assets/colab-badge.svg\" alt=\"Open In Colab\"/></a>"
      ]
    },
    {
      "cell_type": "code",
      "metadata": {
        "id": "1hvcOcMZ6rOj",
        "colab": {
          "base_uri": "https://localhost:8080/"
        },
        "outputId": "52ef546b-892c-4b84-e581-a3aaeeb6bf4b"
      },
      "source": [
        "!pip install fasttext"
      ],
      "execution_count": 15,
      "outputs": [
        {
          "output_type": "stream",
          "text": [
            "Requirement already satisfied: fasttext in /usr/local/lib/python3.7/dist-packages (0.9.2)\n",
            "Requirement already satisfied: pybind11>=2.2 in /usr/local/lib/python3.7/dist-packages (from fasttext) (2.7.0)\n",
            "Requirement already satisfied: numpy in /usr/local/lib/python3.7/dist-packages (from fasttext) (1.19.5)\n",
            "Requirement already satisfied: setuptools>=0.7.0 in /usr/local/lib/python3.7/dist-packages (from fasttext) (57.2.0)\n"
          ],
          "name": "stdout"
        }
      ]
    },
    {
      "cell_type": "code",
      "metadata": {
        "id": "TPeUFsoV5Rdd"
      },
      "source": [
        "import os\n",
        "import json\n",
        "import gc\n",
        "import pickle\n",
        "\n",
        "import numpy as np\n",
        "import pandas as pd\n",
        "from tqdm import tqdm_notebook as tqdm\n",
        "from tensorflow.keras.models import Model\n",
        "from tensorflow.keras.layers import Input, Dense, Embedding, SpatialDropout1D, concatenate, Masking\n",
        "from tensorflow.keras.layers import LSTM, Bidirectional, GlobalMaxPooling1D, Dropout\n",
        "from tensorflow.keras.preprocessing import text, sequence\n",
        "from tqdm import tqdm_notebook as tqdm\n",
        "from sklearn.metrics import accuracy_score,recall_score, f1_score,confusion_matrix\n",
        "import matplotlib.pyplot as plt\n",
        "import seaborn as sns\n",
        "import fasttext"
      ],
      "execution_count": 16,
      "outputs": []
    },
    {
      "cell_type": "code",
      "metadata": {
        "id": "BjmntLtZ_R2A",
        "colab": {
          "base_uri": "https://localhost:8080/"
        },
        "outputId": "2ec1aea9-5d28-4bf6-f450-a37ff81280e3"
      },
      "source": [
        "cd '/content/drive/My Drive/Q&A Data/tensorflow2-question-answering'\n"
      ],
      "execution_count": 17,
      "outputs": [
        {
          "output_type": "stream",
          "text": [
            "/content/drive/My Drive/Q&A Data/tensorflow2-question-answering\n"
          ],
          "name": "stdout"
        }
      ]
    },
    {
      "cell_type": "code",
      "metadata": {
        "id": "EbyJFBeA_hiq",
        "colab": {
          "base_uri": "https://localhost:8080/",
          "height": 35
        },
        "outputId": "59d8de31-f250-415c-e04b-58a966245bae"
      },
      "source": [
        "pwd"
      ],
      "execution_count": 18,
      "outputs": [
        {
          "output_type": "execute_result",
          "data": {
            "application/vnd.google.colaboratory.intrinsic+json": {
              "type": "string"
            },
            "text/plain": [
              "'/content/drive/My Drive/Q&A Data/tensorflow2-question-answering'"
            ]
          },
          "metadata": {
            "tags": []
          },
          "execution_count": 18
        }
      ]
    },
    {
      "cell_type": "code",
      "metadata": {
        "id": "CbQFSMdL5tHM"
      },
      "source": [
        "test_path='./simplified-nq-test.jsonl'\n",
        "train_path='./simplified-nq-train.jsonl'\n",
        "submission = pd.read_csv(\"./sample_submission.csv\")"
      ],
      "execution_count": 19,
      "outputs": []
    },
    {
      "cell_type": "code",
      "metadata": {
        "id": "ee6PsS-u5aCc"
      },
      "source": [
        "def build_train(train_path, n_rows, sampling_rate=15):\n",
        "    with open(train_path) as f:\n",
        "        processed_rows = []\n",
        "\n",
        "        for i in tqdm(range(n_rows)):\n",
        "            line = f.readline()\n",
        "            if not line:\n",
        "                break\n",
        "\n",
        "            line = json.loads(line)\n",
        "\n",
        "            text = line['document_text'].split(' ')\n",
        "            question = line['question_text']\n",
        "            annotations = line['annotations'][0]\n",
        "            example_id = line['example_id']\n",
        "            start_token_true = line['annotations'][0]['long_answer']['start_token']\n",
        "\n",
        "            \n",
        "\n",
        "            if start_token_true != -1:\n",
        "                for i, candidate in enumerate(line['long_answer_candidates']):\n",
        "                    label = i == annotations['long_answer']['candidate_index']\n",
        "\n",
        "                    start = candidate['start_token']\n",
        "                    end = candidate['end_token']\n",
        "\n",
        "                    if label or (i % sampling_rate == 0):\n",
        "                        processed_rows.append({\n",
        "                            'text': \" \".join(text[start:end]),\n",
        "                            'is_long_answer': label,\n",
        "                            'question': question,\n",
        "                            'example_id': example_id,\n",
        "                            'annotation_id': annotations['annotation_id']\n",
        "                        })\n",
        "\n",
        "        train = pd.DataFrame(processed_rows)\n",
        "        \n",
        "        return train"
      ],
      "execution_count": 20,
      "outputs": []
    },
    {
      "cell_type": "code",
      "metadata": {
        "id": "r4GNJeoumyeC"
      },
      "source": [
        "def build_test(test_path):\n",
        "    with open(test_path) as f:\n",
        "        processed_rows = []\n",
        "\n",
        "        for line in tqdm(f):\n",
        "            line = json.loads(line)\n",
        "\n",
        "            text = line['document_text'].split(' ')\n",
        "            question = line['question_text']\n",
        "            example_id = line['example_id']\n",
        "\n",
        "            for candidate in line['long_answer_candidates']:\n",
        "                start = candidate['start_token']\n",
        "                end = candidate['end_token']\n",
        "\n",
        "                processed_rows.append({\n",
        "                    'text': \" \".join(text[start:end]),\n",
        "                    'question': question,\n",
        "                    'example_id': example_id,\n",
        "                    'sequence': f'{start}:{end}'\n",
        "\n",
        "                })\n",
        "\n",
        "        test = pd.DataFrame(processed_rows)\n",
        "    \n",
        "    return test"
      ],
      "execution_count": 21,
      "outputs": []
    },
    {
      "cell_type": "code",
      "metadata": {
        "id": "ccTPoZK55eZ6",
        "colab": {
          "base_uri": "https://localhost:8080/",
          "height": 119,
          "referenced_widgets": [
            "7c7fd055f2c840f4857c3ae1ed183dec",
            "e75f4441a9a14048a52b34fc8f5198a4",
            "f0bbcef33ec548e0b32ce246b15c6372",
            "6f5ac518d89c448e870854f9ccabd2e6",
            "427ba42ae3254f7996d597986341fc39",
            "beca65c4a23349feb26599968e3a520b",
            "e8eecadc21fb4d84a653fc7c6e9b5a46",
            "bb1cfb70165040ea8831520f4927aa55"
          ]
        },
        "outputId": "bcee082f-a016-4936-96b5-dd0c3ce05a4d"
      },
      "source": [
        "train_data = build_train(train_path,n_rows=8000)\n",
        "# test = build_test(test_path)"
      ],
      "execution_count": 22,
      "outputs": [
        {
          "output_type": "stream",
          "text": [
            "/usr/local/lib/python3.7/dist-packages/ipykernel_launcher.py:5: TqdmDeprecationWarning: This function will be removed in tqdm==5.0.0\n",
            "Please use `tqdm.notebook.tqdm` instead of `tqdm.tqdm_notebook`\n",
            "  \"\"\"\n"
          ],
          "name": "stderr"
        },
        {
          "output_type": "display_data",
          "data": {
            "application/vnd.jupyter.widget-view+json": {
              "model_id": "7c7fd055f2c840f4857c3ae1ed183dec",
              "version_minor": 0,
              "version_major": 2
            },
            "text/plain": [
              "HBox(children=(FloatProgress(value=0.0, max=8000.0), HTML(value='')))"
            ]
          },
          "metadata": {
            "tags": []
          }
        },
        {
          "output_type": "stream",
          "text": [
            "\n"
          ],
          "name": "stdout"
        }
      ]
    },
    {
      "cell_type": "code",
      "metadata": {
        "id": "chpNms0wh3D3",
        "colab": {
          "base_uri": "https://localhost:8080/"
        },
        "outputId": "74e6cbea-a1b8-4cd3-85e1-70da639c9828"
      },
      "source": [
        "from sklearn.model_selection import train_test_split\n",
        "\n",
        "Question_ids = list(train_data.example_id.unique())\n",
        "Q_train_id, Q_valid_id=  train_test_split(Question_ids, test_size=0.33, random_state=42)\n",
        "\n",
        "train = train_data.loc[train_data['example_id'].isin(Q_train_id)]\n",
        "valid = train_data.loc[train_data['example_id'].isin(Q_valid_id)]\n",
        "print('train_shape: ', train.shape)\n",
        "print('valid_shape: ', valid.shape)"
      ],
      "execution_count": 23,
      "outputs": [
        {
          "output_type": "stream",
          "text": [
            "train_shape:  (27894, 5)\n",
            "valid_shape:  (13446, 5)\n"
          ],
          "name": "stdout"
        }
      ]
    },
    {
      "cell_type": "code",
      "metadata": {
        "id": "-j9Ta6yT5kY6",
        "colab": {
          "base_uri": "https://localhost:8080/"
        },
        "outputId": "c2cec76f-e60a-40c6-99a4-4eac004e5f90"
      },
      "source": [
        "print('Number of train questions:', len(train.example_id.unique()))\n",
        "print('Number of valid questions:', len(valid.example_id.unique()))"
      ],
      "execution_count": 24,
      "outputs": [
        {
          "output_type": "stream",
          "text": [
            "Number of train questions: 2706\n",
            "Number of valid questions: 1334\n"
          ],
          "name": "stdout"
        }
      ]
    },
    {
      "cell_type": "code",
      "metadata": {
        "id": "QFJJGQjzzJCW"
      },
      "source": [
        "def compute_text_and_questions(train, test, tokenizer):\n",
        "    train_text = tokenizer.texts_to_sequences(train.text.values)\n",
        "    train_questions = tokenizer.texts_to_sequences(train.question.values)\n",
        "    valid_text = tokenizer.texts_to_sequences(valid.text.values)\n",
        "    valid_questions = tokenizer.texts_to_sequences(valid.question.values)\n",
        "    \n",
        "    train_text = sequence.pad_sequences(train_text, maxlen=300)\n",
        "    train_questions = sequence.pad_sequences(train_questions)\n",
        "    valid_text = sequence.pad_sequences(valid_text, maxlen=300)\n",
        "    valid_questions = sequence.pad_sequences(valid_questions)\n",
        "    \n",
        "    return train_text, train_questions, valid_text, valid_questions"
      ],
      "execution_count": 25,
      "outputs": []
    },
    {
      "cell_type": "code",
      "metadata": {
        "id": "kh2nd0FNT9DZ",
        "colab": {
          "base_uri": "https://localhost:8080/",
          "height": 119,
          "referenced_widgets": [
            "2f1f177ba4f44ba8852c3c7652e570e1",
            "c0b8dd5e4b174b35bacdc53554c895e2",
            "82cba72e59464c9fbb0ccf186499d3f6",
            "4839494516874b2f86921371ccb6abd5",
            "197e62e246af4d91bdb9871824f71263",
            "5a38556726cf40a897cdb7c3716c7173",
            "638a358e08514900bde997b4e43f44a4",
            "7643d07bc67d4e13ad5597b671dd415f"
          ]
        },
        "outputId": "e890a538-76a9-47ca-e1cf-3bd898e222f9"
      },
      "source": [
        "tokenizer = text.Tokenizer(lower=False, num_words=80000)\n",
        "\n",
        "for text in tqdm([train.text, valid.text, train.question, valid.question]):\n",
        "    tokenizer.fit_on_texts(text.values)"
      ],
      "execution_count": 26,
      "outputs": [
        {
          "output_type": "stream",
          "text": [
            "/usr/local/lib/python3.7/dist-packages/ipykernel_launcher.py:3: TqdmDeprecationWarning: This function will be removed in tqdm==5.0.0\n",
            "Please use `tqdm.notebook.tqdm` instead of `tqdm.tqdm_notebook`\n",
            "  This is separate from the ipykernel package so we can avoid doing imports until\n"
          ],
          "name": "stderr"
        },
        {
          "output_type": "display_data",
          "data": {
            "application/vnd.jupyter.widget-view+json": {
              "model_id": "2f1f177ba4f44ba8852c3c7652e570e1",
              "version_minor": 0,
              "version_major": 2
            },
            "text/plain": [
              "HBox(children=(FloatProgress(value=0.0, max=4.0), HTML(value='')))"
            ]
          },
          "metadata": {
            "tags": []
          }
        },
        {
          "output_type": "stream",
          "text": [
            "\n"
          ],
          "name": "stdout"
        }
      ]
    },
    {
      "cell_type": "code",
      "metadata": {
        "id": "G7BsSM2EUolr"
      },
      "source": [
        "train_target = train.is_long_answer.astype(int).values\n",
        "valid_target = valid.is_long_answer.astype(int).values"
      ],
      "execution_count": 27,
      "outputs": []
    },
    {
      "cell_type": "code",
      "metadata": {
        "id": "SKgcFFu0Us5M"
      },
      "source": [
        "train_text, train_questions, valid_text, valid_questions = compute_text_and_questions(train, valid, tokenizer)\n",
        "del train"
      ],
      "execution_count": 28,
      "outputs": []
    },
    {
      "cell_type": "code",
      "metadata": {
        "id": "w1ITRAsAU0-j"
      },
      "source": [
        "def build_embedding_matrix(tokenizer, path):\n",
        "    embedding_matrix = np.zeros((tokenizer.num_words + 1, 300))\n",
        "    ft_model = fasttext.load_model(path)\n",
        "\n",
        "    for word, i in tqdm(tokenizer.word_index.items()):\n",
        "        if i >= tokenizer.num_words - 1:\n",
        "            break\n",
        "        embedding_matrix[i] = ft_model.get_word_vector(word)\n",
        "    \n",
        "    return embedding_matrix"
      ],
      "execution_count": 29,
      "outputs": []
    },
    {
      "cell_type": "code",
      "metadata": {
        "id": "q-m2vWlRU6pb",
        "colab": {
          "base_uri": "https://localhost:8080/",
          "height": 119,
          "referenced_widgets": [
            "28f72a12214144769d125103f52be330",
            "6e45c159fe914e2895b9a62a22f6aeee",
            "00977499089842d5a8ced5c93e9769f1",
            "0db4841e8e7940de937a033809335889",
            "9d0dc7c993664105a9c7f6a20a4ae75d",
            "e278cf8a7ce2458ea989772d2c3bb1fe",
            "677d91ce913e4e308c1fff44164cb038",
            "2fea5eb25ab445299a1b87a184e95e91"
          ]
        },
        "outputId": "27f25a48-92ee-4ab5-dd87-a24fd9265eaf"
      },
      "source": [
        "path = '/content/drive/My Drive/Word2vec/crawl-300d-2M-subword.bin'\n",
        "embedding_matrix = build_embedding_matrix(tokenizer, path)"
      ],
      "execution_count": 30,
      "outputs": [
        {
          "output_type": "stream",
          "text": [
            "Warning : `load_model` does not return WordVectorModel or SupervisedModel any more, but a `FastText` object which is very similar.\n",
            "/usr/local/lib/python3.7/dist-packages/ipykernel_launcher.py:5: TqdmDeprecationWarning: This function will be removed in tqdm==5.0.0\n",
            "Please use `tqdm.notebook.tqdm` instead of `tqdm.tqdm_notebook`\n",
            "  \"\"\"\n"
          ],
          "name": "stderr"
        },
        {
          "output_type": "display_data",
          "data": {
            "application/vnd.jupyter.widget-view+json": {
              "model_id": "28f72a12214144769d125103f52be330",
              "version_minor": 0,
              "version_major": 2
            },
            "text/plain": [
              "HBox(children=(FloatProgress(value=0.0, max=121606.0), HTML(value='')))"
            ]
          },
          "metadata": {
            "tags": []
          }
        }
      ]
    },
    {
      "cell_type": "code",
      "metadata": {
        "id": "9Ah2dCl3z5Ea"
      },
      "source": [
        "# METRICS = [\n",
        "#       keras.metrics.TruePositives(name='tp'),\n",
        "#       keras.metrics.FalsePositives(name='fp'),\n",
        "#       keras.metrics.TrueNegatives(name='tn'),\n",
        "#       keras.metrics.FalseNegatives(name='fn'), \n",
        "#       keras.metrics.BinaryAccuracy(name='accuracy'),\n",
        "#       keras.metrics.Precision(name='precision'),\n",
        "#       keras.metrics.Recall(name='recall'),\n",
        "#       keras.metrics.AUC(name='auc'),\n",
        "# ]"
      ],
      "execution_count": 31,
      "outputs": []
    },
    {
      "cell_type": "code",
      "metadata": {
        "id": "k0-6eXkIU4Ea",
        "colab": {
          "base_uri": "https://localhost:8080/"
        },
        "outputId": "f893a4cc-c550-43bc-b864-f9a8a1d1c2af"
      },
      "source": [
        "from tensorflow import keras\n",
        "def build_model(embedding_matrix):\n",
        "    embedding = Embedding(\n",
        "        *embedding_matrix.shape, \n",
        "        weights=[embedding_matrix], \n",
        "        trainable=False, \n",
        "        mask_zero=True\n",
        "    )\n",
        "    \n",
        "    q_in = Input(shape=(None,))\n",
        "    q = embedding(q_in)\n",
        "    q = SpatialDropout1D(0.2)(q)\n",
        "    q = Bidirectional(LSTM(100, return_sequences=True))(q)\n",
        "    q = GlobalMaxPooling1D()(q)\n",
        "    \n",
        "    \n",
        "    t_in = Input(shape=(None,))\n",
        "    t = embedding(t_in)\n",
        "    t = SpatialDropout1D(0.2)(t)\n",
        "    t = Bidirectional(LSTM(150, return_sequences=True))(t)\n",
        "    t = GlobalMaxPooling1D()(t)\n",
        "    \n",
        "    hidden = concatenate([q, t])\n",
        "    hidden = Dense(300, activation='relu')(hidden)\n",
        "    hidden = Dropout(0.5)(hidden)\n",
        "    hidden = Dense(300, activation='relu')(hidden)\n",
        "    hidden = Dropout(0.5)(hidden)\n",
        "    \n",
        "    out1 = Dense(1, activation='sigmoid')(hidden)\n",
        "    \n",
        "    model = Model(inputs=[t_in, q_in], outputs=out1)\n",
        "    model.compile(loss='binary_crossentropy', optimizer='adam',metrics=[keras.metrics.AUC(name='auc')])\n",
        "\n",
        "    return model"
      ],
      "execution_count": 32,
      "outputs": [
        {
          "output_type": "stream",
          "text": [
            "\n"
          ],
          "name": "stdout"
        }
      ]
    },
    {
      "cell_type": "code",
      "metadata": {
        "id": "EIBjXZ35uUXO",
        "colab": {
          "base_uri": "https://localhost:8080/"
        },
        "outputId": "d4b9ba96-9d0a-43ac-9c60-221b861988fd"
      },
      "source": [
        "model = build_model(embedding_matrix)\n",
        "model.summary()"
      ],
      "execution_count": 33,
      "outputs": [
        {
          "output_type": "stream",
          "text": [
            "Model: \"model\"\n",
            "__________________________________________________________________________________________________\n",
            "Layer (type)                    Output Shape         Param #     Connected to                     \n",
            "==================================================================================================\n",
            "input_1 (InputLayer)            [(None, None)]       0                                            \n",
            "__________________________________________________________________________________________________\n",
            "input_2 (InputLayer)            [(None, None)]       0                                            \n",
            "__________________________________________________________________________________________________\n",
            "embedding (Embedding)           (None, None, 300)    24000300    input_1[0][0]                    \n",
            "                                                                 input_2[0][0]                    \n",
            "__________________________________________________________________________________________________\n",
            "spatial_dropout1d (SpatialDropo (None, None, 300)    0           embedding[0][0]                  \n",
            "__________________________________________________________________________________________________\n",
            "spatial_dropout1d_1 (SpatialDro (None, None, 300)    0           embedding[1][0]                  \n",
            "__________________________________________________________________________________________________\n",
            "bidirectional (Bidirectional)   (None, None, 200)    320800      spatial_dropout1d[0][0]          \n",
            "__________________________________________________________________________________________________\n",
            "bidirectional_1 (Bidirectional) (None, None, 300)    541200      spatial_dropout1d_1[0][0]        \n",
            "__________________________________________________________________________________________________\n",
            "global_max_pooling1d (GlobalMax (None, 200)          0           bidirectional[0][0]              \n",
            "__________________________________________________________________________________________________\n",
            "global_max_pooling1d_1 (GlobalM (None, 300)          0           bidirectional_1[0][0]            \n",
            "__________________________________________________________________________________________________\n",
            "concatenate (Concatenate)       (None, 500)          0           global_max_pooling1d[0][0]       \n",
            "                                                                 global_max_pooling1d_1[0][0]     \n",
            "__________________________________________________________________________________________________\n",
            "dense (Dense)                   (None, 300)          150300      concatenate[0][0]                \n",
            "__________________________________________________________________________________________________\n",
            "dropout (Dropout)               (None, 300)          0           dense[0][0]                      \n",
            "__________________________________________________________________________________________________\n",
            "dense_1 (Dense)                 (None, 300)          90300       dropout[0][0]                    \n",
            "__________________________________________________________________________________________________\n",
            "dropout_1 (Dropout)             (None, 300)          0           dense_1[0][0]                    \n",
            "__________________________________________________________________________________________________\n",
            "dense_2 (Dense)                 (None, 1)            301         dropout_1[0][0]                  \n",
            "==================================================================================================\n",
            "Total params: 25,103,201\n",
            "Trainable params: 1,102,901\n",
            "Non-trainable params: 24,000,300\n",
            "__________________________________________________________________________________________________\n"
          ],
          "name": "stdout"
        }
      ]
    },
    {
      "cell_type": "code",
      "metadata": {
        "id": "_yGcGuKpxQxi",
        "colab": {
          "base_uri": "https://localhost:8080/"
        },
        "outputId": "0fc0e659-d967-4013-91c5-1bbe0c242028"
      },
      "source": [
        "train_history = model.fit(\n",
        "    [train_text, train_questions], \n",
        "    train_target,\n",
        "    epochs=2,\n",
        "    validation_split=0.2,\n",
        "    batch_size=1024\n",
        ")"
      ],
      "execution_count": 34,
      "outputs": [
        {
          "output_type": "stream",
          "text": [
            "Epoch 1/2\n",
            "22/22 [==============================] - 58s 2s/step - loss: 0.3763 - auc: 0.5479 - val_loss: 0.3046 - val_auc: 0.6809\n",
            "Epoch 2/2\n",
            "22/22 [==============================] - 35s 2s/step - loss: 0.2675 - auc: 0.7906 - val_loss: 0.2552 - val_auc: 0.8254\n"
          ],
          "name": "stdout"
        }
      ]
    },
    {
      "cell_type": "code",
      "metadata": {
        "id": "D5rgty0loESs",
        "colab": {
          "base_uri": "https://localhost:8080/"
        },
        "outputId": "1796a229-fbaa-4618-a97a-2979dada3add"
      },
      "source": [
        "baseline_results = model.evaluate([valid_text,valid_questions], valid_target,\n",
        "                                  batch_size=1024, verbose=0)\n",
        "\n",
        "\n",
        "for name, value in zip(model.metrics_names, baseline_results):\n",
        "  print(name, ': ', value)\n",
        "print()"
      ],
      "execution_count": 35,
      "outputs": [
        {
          "output_type": "stream",
          "text": [
            "loss :  0.24650713801383972\n",
            "auc :  0.8396186828613281\n",
            "\n"
          ],
          "name": "stdout"
        }
      ]
    },
    {
      "cell_type": "code",
      "metadata": {
        "id": "b_4Xom3DqlSy"
      },
      "source": [
        "baseline_predict  =  model.predict([valid_text,valid_questions],batch_size=1024, verbose=0)"
      ],
      "execution_count": 36,
      "outputs": []
    },
    {
      "cell_type": "code",
      "metadata": {
        "id": "6agHQ2drtuPu",
        "colab": {
          "base_uri": "https://localhost:8080/"
        },
        "outputId": "2fdf93f7-44d6-4e8f-8e8e-5ce710a09ead"
      },
      "source": [
        "valid['predictions'] = baseline_predict"
      ],
      "execution_count": 37,
      "outputs": [
        {
          "output_type": "stream",
          "text": [
            "/usr/local/lib/python3.7/dist-packages/ipykernel_launcher.py:1: SettingWithCopyWarning: \n",
            "A value is trying to be set on a copy of a slice from a DataFrame.\n",
            "Try using .loc[row_indexer,col_indexer] = value instead\n",
            "\n",
            "See the caveats in the documentation: https://pandas.pydata.org/pandas-docs/stable/user_guide/indexing.html#returning-a-view-versus-a-copy\n",
            "  \"\"\"Entry point for launching an IPython kernel.\n"
          ],
          "name": "stderr"
        }
      ]
    },
    {
      "cell_type": "code",
      "metadata": {
        "id": "lMWMaRUDuq_U",
        "colab": {
          "base_uri": "https://localhost:8080/",
          "height": 293
        },
        "outputId": "87d69305-d9af-402f-a1d4-a085edd2be22"
      },
      "source": [
        "valid.head()"
      ],
      "execution_count": 38,
      "outputs": [
        {
          "output_type": "execute_result",
          "data": {
            "text/html": [
              "<div>\n",
              "<style scoped>\n",
              "    .dataframe tbody tr th:only-of-type {\n",
              "        vertical-align: middle;\n",
              "    }\n",
              "\n",
              "    .dataframe tbody tr th {\n",
              "        vertical-align: top;\n",
              "    }\n",
              "\n",
              "    .dataframe thead th {\n",
              "        text-align: right;\n",
              "    }\n",
              "</style>\n",
              "<table border=\"1\" class=\"dataframe\">\n",
              "  <thead>\n",
              "    <tr style=\"text-align: right;\">\n",
              "      <th></th>\n",
              "      <th>text</th>\n",
              "      <th>is_long_answer</th>\n",
              "      <th>question</th>\n",
              "      <th>example_id</th>\n",
              "      <th>annotation_id</th>\n",
              "      <th>predictions</th>\n",
              "    </tr>\n",
              "  </thead>\n",
              "  <tbody>\n",
              "    <tr>\n",
              "      <th>0</th>\n",
              "      <td>&lt;Table&gt; &lt;Tr&gt; &lt;Td&gt; &lt;/Td&gt; &lt;Td&gt; ( hide ) This art...</td>\n",
              "      <td>False</td>\n",
              "      <td>which is the most common use of opt-in e-mail ...</td>\n",
              "      <td>5655493461695504401</td>\n",
              "      <td>593165450220027640</td>\n",
              "      <td>0.039368</td>\n",
              "    </tr>\n",
              "    <tr>\n",
              "      <th>1</th>\n",
              "      <td>&lt;Tr&gt; &lt;Td&gt; &lt;Ul&gt; &lt;Li&gt; Pay - per - click &lt;/Li&gt; &lt;L...</td>\n",
              "      <td>False</td>\n",
              "      <td>which is the most common use of opt-in e-mail ...</td>\n",
              "      <td>5655493461695504401</td>\n",
              "      <td>593165450220027640</td>\n",
              "      <td>0.001140</td>\n",
              "    </tr>\n",
              "    <tr>\n",
              "      <th>2</th>\n",
              "      <td>&lt;P&gt; Email marketing has evolved rapidly alongs...</td>\n",
              "      <td>False</td>\n",
              "      <td>which is the most common use of opt-in e-mail ...</td>\n",
              "      <td>5655493461695504401</td>\n",
              "      <td>593165450220027640</td>\n",
              "      <td>0.208265</td>\n",
              "    </tr>\n",
              "    <tr>\n",
              "      <th>3</th>\n",
              "      <td>&lt;Li&gt; Advertisers can reach substantial numbers...</td>\n",
              "      <td>False</td>\n",
              "      <td>which is the most common use of opt-in e-mail ...</td>\n",
              "      <td>5655493461695504401</td>\n",
              "      <td>593165450220027640</td>\n",
              "      <td>0.012504</td>\n",
              "    </tr>\n",
              "    <tr>\n",
              "      <th>4</th>\n",
              "      <td>&lt;P&gt; A common example of permission marketing i...</td>\n",
              "      <td>True</td>\n",
              "      <td>which is the most common use of opt-in e-mail ...</td>\n",
              "      <td>5655493461695504401</td>\n",
              "      <td>593165450220027640</td>\n",
              "      <td>0.215678</td>\n",
              "    </tr>\n",
              "  </tbody>\n",
              "</table>\n",
              "</div>"
            ],
            "text/plain": [
              "                                                text  ...  predictions\n",
              "0  <Table> <Tr> <Td> </Td> <Td> ( hide ) This art...  ...     0.039368\n",
              "1  <Tr> <Td> <Ul> <Li> Pay - per - click </Li> <L...  ...     0.001140\n",
              "2  <P> Email marketing has evolved rapidly alongs...  ...     0.208265\n",
              "3  <Li> Advertisers can reach substantial numbers...  ...     0.012504\n",
              "4  <P> A common example of permission marketing i...  ...     0.215678\n",
              "\n",
              "[5 rows x 6 columns]"
            ]
          },
          "metadata": {
            "tags": []
          },
          "execution_count": 38
        }
      ]
    },
    {
      "cell_type": "code",
      "metadata": {
        "id": "O2TvtjIMcHob"
      },
      "source": [
        ""
      ],
      "execution_count": null,
      "outputs": []
    },
    {
      "cell_type": "code",
      "metadata": {
        "id": "QkU6xvKjcKSW"
      },
      "source": [
        ""
      ],
      "execution_count": null,
      "outputs": []
    },
    {
      "cell_type": "code",
      "metadata": {
        "id": "p6QVVseavBKw",
        "colab": {
          "base_uri": "https://localhost:8080/"
        },
        "outputId": "f984279f-f869-433b-9d3b-65b8027afaeb"
      },
      "source": [
        "max_pred = valid.groupby(['example_id'])['predictions'].transform('max')\n",
        "valid['pred_target'] = np.where(valid['predictions'].eq(max_pred), 1,0)"
      ],
      "execution_count": 39,
      "outputs": [
        {
          "output_type": "stream",
          "text": [
            "/usr/local/lib/python3.7/dist-packages/ipykernel_launcher.py:2: SettingWithCopyWarning: \n",
            "A value is trying to be set on a copy of a slice from a DataFrame.\n",
            "Try using .loc[row_indexer,col_indexer] = value instead\n",
            "\n",
            "See the caveats in the documentation: https://pandas.pydata.org/pandas-docs/stable/user_guide/indexing.html#returning-a-view-versus-a-copy\n",
            "  \n"
          ],
          "name": "stderr"
        }
      ]
    },
    {
      "cell_type": "code",
      "metadata": {
        "id": "5FucSOhKtokS"
      },
      "source": [
        "# helper function\n",
        "def plot_cm(labels, predictions):\n",
        "  cm = confusion_matrix(labels, predictions)\n",
        "  plt.figure(figsize=(5,5))\n",
        "  sns.heatmap(cm, annot=True, fmt=\"d\")\n",
        "  plt.title('Confusion matrix')\n",
        "  plt.ylabel('Actual label')\n",
        "  plt.xlabel('Predicted label')"
      ],
      "execution_count": 40,
      "outputs": []
    },
    {
      "cell_type": "code",
      "metadata": {
        "colab": {
          "base_uri": "https://localhost:8080/",
          "height": 628
        },
        "id": "DaA-DwaUcNTe",
        "outputId": "90625194-0686-4d77-e8f6-930214cbed8f"
      },
      "source": [
        "valid_set_index =valid.set_index('example_id')\n",
        "\n"
      ],
      "execution_count": 46,
      "outputs": [
        {
          "output_type": "execute_result",
          "data": {
            "text/html": [
              "<div>\n",
              "<style scoped>\n",
              "    .dataframe tbody tr th:only-of-type {\n",
              "        vertical-align: middle;\n",
              "    }\n",
              "\n",
              "    .dataframe tbody tr th {\n",
              "        vertical-align: top;\n",
              "    }\n",
              "\n",
              "    .dataframe thead th {\n",
              "        text-align: right;\n",
              "    }\n",
              "</style>\n",
              "<table border=\"1\" class=\"dataframe\">\n",
              "  <thead>\n",
              "    <tr style=\"text-align: right;\">\n",
              "      <th></th>\n",
              "      <th>text</th>\n",
              "      <th>is_long_answer</th>\n",
              "      <th>question</th>\n",
              "      <th>annotation_id</th>\n",
              "      <th>predictions</th>\n",
              "      <th>pred_target</th>\n",
              "    </tr>\n",
              "    <tr>\n",
              "      <th>example_id</th>\n",
              "      <th></th>\n",
              "      <th></th>\n",
              "      <th></th>\n",
              "      <th></th>\n",
              "      <th></th>\n",
              "      <th></th>\n",
              "    </tr>\n",
              "  </thead>\n",
              "  <tbody>\n",
              "    <tr>\n",
              "      <th>5655493461695504401</th>\n",
              "      <td>&lt;Table&gt; &lt;Tr&gt; &lt;Td&gt; &lt;/Td&gt; &lt;Td&gt; ( hide ) This art...</td>\n",
              "      <td>False</td>\n",
              "      <td>which is the most common use of opt-in e-mail ...</td>\n",
              "      <td>593165450220027640</td>\n",
              "      <td>0.039368</td>\n",
              "      <td>0</td>\n",
              "    </tr>\n",
              "    <tr>\n",
              "      <th>5655493461695504401</th>\n",
              "      <td>&lt;Tr&gt; &lt;Td&gt; &lt;Ul&gt; &lt;Li&gt; Pay - per - click &lt;/Li&gt; &lt;L...</td>\n",
              "      <td>False</td>\n",
              "      <td>which is the most common use of opt-in e-mail ...</td>\n",
              "      <td>593165450220027640</td>\n",
              "      <td>0.001140</td>\n",
              "      <td>0</td>\n",
              "    </tr>\n",
              "    <tr>\n",
              "      <th>5655493461695504401</th>\n",
              "      <td>&lt;P&gt; Email marketing has evolved rapidly alongs...</td>\n",
              "      <td>False</td>\n",
              "      <td>which is the most common use of opt-in e-mail ...</td>\n",
              "      <td>593165450220027640</td>\n",
              "      <td>0.208265</td>\n",
              "      <td>0</td>\n",
              "    </tr>\n",
              "    <tr>\n",
              "      <th>5655493461695504401</th>\n",
              "      <td>&lt;Li&gt; Advertisers can reach substantial numbers...</td>\n",
              "      <td>False</td>\n",
              "      <td>which is the most common use of opt-in e-mail ...</td>\n",
              "      <td>593165450220027640</td>\n",
              "      <td>0.012504</td>\n",
              "      <td>0</td>\n",
              "    </tr>\n",
              "    <tr>\n",
              "      <th>5655493461695504401</th>\n",
              "      <td>&lt;P&gt; A common example of permission marketing i...</td>\n",
              "      <td>True</td>\n",
              "      <td>which is the most common use of opt-in e-mail ...</td>\n",
              "      <td>593165450220027640</td>\n",
              "      <td>0.215678</td>\n",
              "      <td>1</td>\n",
              "    </tr>\n",
              "    <tr>\n",
              "      <th>...</th>\n",
              "      <td>...</td>\n",
              "      <td>...</td>\n",
              "      <td>...</td>\n",
              "      <td>...</td>\n",
              "      <td>...</td>\n",
              "      <td>...</td>\n",
              "    </tr>\n",
              "    <tr>\n",
              "      <th>2139522855799723903</th>\n",
              "      <td>&lt;Tr&gt; &lt;Td&gt; 28 &lt;/Td&gt; &lt;Td&gt; Argentina &lt;/Td&gt; &lt;Td&gt; 2...</td>\n",
              "      <td>False</td>\n",
              "      <td>what is the milk consumption per capita (kg) i...</td>\n",
              "      <td>16697149840373109551</td>\n",
              "      <td>0.000452</td>\n",
              "      <td>0</td>\n",
              "    </tr>\n",
              "    <tr>\n",
              "      <th>2139522855799723903</th>\n",
              "      <td>&lt;Tr&gt; &lt;Td&gt; 43 &lt;/Td&gt; &lt;Td&gt; Russia &lt;/Td&gt; &lt;Td&gt; 172....</td>\n",
              "      <td>False</td>\n",
              "      <td>what is the milk consumption per capita (kg) i...</td>\n",
              "      <td>16697149840373109551</td>\n",
              "      <td>0.000443</td>\n",
              "      <td>0</td>\n",
              "    </tr>\n",
              "    <tr>\n",
              "      <th>2139522855799723903</th>\n",
              "      <td>&lt;Tr&gt; &lt;Td&gt; 58 &lt;/Td&gt; &lt;Td&gt; Antigua and Barbuda &lt;/...</td>\n",
              "      <td>False</td>\n",
              "      <td>what is the milk consumption per capita (kg) i...</td>\n",
              "      <td>16697149840373109551</td>\n",
              "      <td>0.000592</td>\n",
              "      <td>0</td>\n",
              "    </tr>\n",
              "    <tr>\n",
              "      <th>2139522855799723903</th>\n",
              "      <td>&lt;Tr&gt; &lt;Td&gt; 73 &lt;/Td&gt; &lt;Td&gt; Mexico &lt;/Td&gt; &lt;Td&gt; 115....</td>\n",
              "      <td>False</td>\n",
              "      <td>what is the milk consumption per capita (kg) i...</td>\n",
              "      <td>16697149840373109551</td>\n",
              "      <td>0.000443</td>\n",
              "      <td>0</td>\n",
              "    </tr>\n",
              "    <tr>\n",
              "      <th>2139522855799723903</th>\n",
              "      <td>&lt;Tr&gt; &lt;Td&gt; 86 &lt;/Td&gt; &lt;Td&gt; Bahamas &lt;/Td&gt; &lt;Td&gt; 93....</td>\n",
              "      <td>False</td>\n",
              "      <td>what is the milk consumption per capita (kg) i...</td>\n",
              "      <td>16697149840373109551</td>\n",
              "      <td>0.000447</td>\n",
              "      <td>0</td>\n",
              "    </tr>\n",
              "  </tbody>\n",
              "</table>\n",
              "<p>13446 rows × 6 columns</p>\n",
              "</div>"
            ],
            "text/plain": [
              "                                                                  text  ...  pred_target\n",
              "example_id                                                              ...             \n",
              "5655493461695504401  <Table> <Tr> <Td> </Td> <Td> ( hide ) This art...  ...            0\n",
              "5655493461695504401  <Tr> <Td> <Ul> <Li> Pay - per - click </Li> <L...  ...            0\n",
              "5655493461695504401  <P> Email marketing has evolved rapidly alongs...  ...            0\n",
              "5655493461695504401  <Li> Advertisers can reach substantial numbers...  ...            0\n",
              "5655493461695504401  <P> A common example of permission marketing i...  ...            1\n",
              "...                                                                ...  ...          ...\n",
              "2139522855799723903  <Tr> <Td> 28 </Td> <Td> Argentina </Td> <Td> 2...  ...            0\n",
              "2139522855799723903  <Tr> <Td> 43 </Td> <Td> Russia </Td> <Td> 172....  ...            0\n",
              "2139522855799723903  <Tr> <Td> 58 </Td> <Td> Antigua and Barbuda </...  ...            0\n",
              "2139522855799723903  <Tr> <Td> 73 </Td> <Td> Mexico </Td> <Td> 115....  ...            0\n",
              "2139522855799723903  <Tr> <Td> 86 </Td> <Td> Bahamas </Td> <Td> 93....  ...            0\n",
              "\n",
              "[13446 rows x 6 columns]"
            ]
          },
          "metadata": {
            "tags": []
          },
          "execution_count": 46
        }
      ]
    },
    {
      "cell_type": "code",
      "metadata": {
        "id": "8TDGvMfvci4e"
      },
      "source": [
        "B_f1_score = 1/valid_set_index.groupby(level='example_id')['text'].count().mean()"
      ],
      "execution_count": 48,
      "outputs": []
    },
    {
      "cell_type": "code",
      "metadata": {
        "id": "pivWHsU3xNzz",
        "colab": {
          "base_uri": "https://localhost:8080/",
          "height": 385
        },
        "outputId": "21207e41-1add-4d05-aa75-225eb2c6b47c"
      },
      "source": [
        "\n",
        "print('Baseline f1_score: {}'.format(B_f1_score))\n",
        "f1_scor = f1_score(valid_target, valid.pred_target,average=None)\n",
        "\n",
        "plot_cm(valid_target, valid.pred_target)\n",
        "print('Model f1_score: {}'.format(f1_scor))"
      ],
      "execution_count": 49,
      "outputs": [
        {
          "output_type": "stream",
          "text": [
            "Baseline f1_score: 0.09921166146065744\n",
            "Model f1_score: [0.93741744 0.43178411]\n"
          ],
          "name": "stdout"
        },
        {
          "output_type": "display_data",
          "data": {
            "image/png": "[encoded data removed]",
            "text/plain": [
              "<Figure size 360x360 with 2 Axes>"
            ]
          },
          "metadata": {
            "tags": [],
            "needs_background": "light"
          }
        }
      ]
    },
    {
      "cell_type": "markdown",
      "metadata": {
        "id": "3__5NoQv-ce2"
      },
      "source": [
        "### Saving Model"
      ]
    },
    {
      "cell_type": "code",
      "metadata": {
        "id": "iaaw_jj4-a0p"
      },
      "source": [
        "# saving\n",
        "with open('tokenizer.pickle', 'wb') as handle:\n",
        "    pickle.dump(tokenizer, handle, protocol=pickle.HIGHEST_PROTOCOL)"
      ],
      "execution_count": 42,
      "outputs": []
    },
    {
      "cell_type": "code",
      "metadata": {
        "id": "Zsz0aUTNxiE-"
      },
      "source": [
        "model.save('model.h5')"
      ],
      "execution_count": 43,
      "outputs": []
    },
    {
      "cell_type": "code",
      "metadata": {
        "id": "tNqRiyvT-EV2",
        "colab": {
          "base_uri": "https://localhost:8080/",
          "height": 307,
          "referenced_widgets": [
            "6462fb5de3f042799f2807571e8feae0",
            "b08a9043226d4cffa9b709bcae50d35e",
            "f939b993353f408596dabc8d522d7962",
            "622d81b89301403baa73eb9631abb15a",
            "452a55ea1f794e0ea797adccb6d10b05",
            "ffbd3c958c5c4a478d7b625b240687dd",
            "125ffa7dbf4d4751996fe3e8766c752c",
            "afbb9faa585242d59e43bd0c0c8856a7"
          ]
        },
        "outputId": "667f57f7-92e0-4420-8b7f-8900cb9917e1"
      },
      "source": [
        "\n",
        "test = build_test(test_path)\n",
        "\n",
        "\n",
        "test.head()\n"
      ],
      "execution_count": 44,
      "outputs": [
        {
          "output_type": "stream",
          "text": [
            "/usr/local/lib/python3.7/dist-packages/ipykernel_launcher.py:5: TqdmDeprecationWarning: This function will be removed in tqdm==5.0.0\n",
            "Please use `tqdm.notebook.tqdm` instead of `tqdm.tqdm_notebook`\n",
            "  \"\"\"\n"
          ],
          "name": "stderr"
        },
        {
          "output_type": "display_data",
          "data": {
            "application/vnd.jupyter.widget-view+json": {
              "model_id": "6462fb5de3f042799f2807571e8feae0",
              "version_minor": 0,
              "version_major": 2
            },
            "text/plain": [
              "HBox(children=(FloatProgress(value=1.0, bar_style='info', max=1.0), HTML(value='')))"
            ]
          },
          "metadata": {
            "tags": []
          }
        },
        {
          "output_type": "stream",
          "text": [
            "\n"
          ],
          "name": "stdout"
        },
        {
          "output_type": "execute_result",
          "data": {
            "text/html": [
              "<div>\n",
              "<style scoped>\n",
              "    .dataframe tbody tr th:only-of-type {\n",
              "        vertical-align: middle;\n",
              "    }\n",
              "\n",
              "    .dataframe tbody tr th {\n",
              "        vertical-align: top;\n",
              "    }\n",
              "\n",
              "    .dataframe thead th {\n",
              "        text-align: right;\n",
              "    }\n",
              "</style>\n",
              "<table border=\"1\" class=\"dataframe\">\n",
              "  <thead>\n",
              "    <tr style=\"text-align: right;\">\n",
              "      <th></th>\n",
              "      <th>text</th>\n",
              "      <th>question</th>\n",
              "      <th>example_id</th>\n",
              "      <th>sequence</th>\n",
              "    </tr>\n",
              "  </thead>\n",
              "  <tbody>\n",
              "    <tr>\n",
              "      <th>0</th>\n",
              "      <td>&lt;Table&gt; &lt;Tr&gt; &lt;Th_colspan=\"2\"&gt; High Commission ...</td>\n",
              "      <td>who is the south african high commissioner in ...</td>\n",
              "      <td>-1220107454853145579</td>\n",
              "      <td>18:136</td>\n",
              "    </tr>\n",
              "    <tr>\n",
              "      <th>1</th>\n",
              "      <td>&lt;Tr&gt; &lt;Th_colspan=\"2\"&gt; High Commission of South...</td>\n",
              "      <td>who is the south african high commissioner in ...</td>\n",
              "      <td>-1220107454853145579</td>\n",
              "      <td>19:30</td>\n",
              "    </tr>\n",
              "    <tr>\n",
              "      <th>2</th>\n",
              "      <td>&lt;Tr&gt; &lt;Th&gt; Location &lt;/Th&gt; &lt;Td&gt; Trafalgar Square...</td>\n",
              "      <td>who is the south african high commissioner in ...</td>\n",
              "      <td>-1220107454853145579</td>\n",
              "      <td>34:45</td>\n",
              "    </tr>\n",
              "    <tr>\n",
              "      <th>3</th>\n",
              "      <td>&lt;Tr&gt; &lt;Th&gt; Address &lt;/Th&gt; &lt;Td&gt; Trafalgar Square ...</td>\n",
              "      <td>who is the south african high commissioner in ...</td>\n",
              "      <td>-1220107454853145579</td>\n",
              "      <td>45:59</td>\n",
              "    </tr>\n",
              "    <tr>\n",
              "      <th>4</th>\n",
              "      <td>&lt;Tr&gt; &lt;Th&gt; Coordinates &lt;/Th&gt; &lt;Td&gt; 51 ° 30 ′ 30 ...</td>\n",
              "      <td>who is the south african high commissioner in ...</td>\n",
              "      <td>-1220107454853145579</td>\n",
              "      <td>59:126</td>\n",
              "    </tr>\n",
              "  </tbody>\n",
              "</table>\n",
              "</div>"
            ],
            "text/plain": [
              "                                                text  ... sequence\n",
              "0  <Table> <Tr> <Th_colspan=\"2\"> High Commission ...  ...   18:136\n",
              "1  <Tr> <Th_colspan=\"2\"> High Commission of South...  ...    19:30\n",
              "2  <Tr> <Th> Location </Th> <Td> Trafalgar Square...  ...    34:45\n",
              "3  <Tr> <Th> Address </Th> <Td> Trafalgar Square ...  ...    45:59\n",
              "4  <Tr> <Th> Coordinates </Th> <Td> 51 ° 30 ′ 30 ...  ...   59:126\n",
              "\n",
              "[5 rows x 4 columns]"
            ]
          },
          "metadata": {
            "tags": []
          },
          "execution_count": 44
        }
      ]
    },
    {
      "cell_type": "markdown",
      "metadata": {
        "id": "mHTxxD2EA8gT"
      },
      "source": [
        "### Load Model"
      ]
    },
    {
      "cell_type": "code",
      "metadata": {
        "id": "sJi_rJGZDGQG",
        "colab": {
          "base_uri": "https://localhost:8080/",
          "height": 131
        },
        "outputId": "090e9d05-8baa-436b-add1-2aa04533bb0a"
      },
      "source": [
        "/content/drive/My Drive/Q&A Data/tensorflow2-question-answering/model.h5"
      ],
      "execution_count": 45,
      "outputs": [
        {
          "output_type": "error",
          "ename": "SyntaxError",
          "evalue": "ignored",
          "traceback": [
            "\u001b[0;36m  File \u001b[0;32m\"<ipython-input-45-72289aac5ba8>\"\u001b[0;36m, line \u001b[0;32m1\u001b[0m\n\u001b[0;31m    content(/drive/My, Drive/Q&A, Data/tensorflow2-question-answering/model.h5)\u001b[0m\n\u001b[0m            ^\u001b[0m\n\u001b[0;31mSyntaxError\u001b[0m\u001b[0;31m:\u001b[0m invalid syntax\n"
          ]
        }
      ]
    },
    {
      "cell_type": "code",
      "metadata": {
        "id": "h8oPwD0aDLGt"
      },
      "source": [
        "pwd"
      ],
      "execution_count": null,
      "outputs": []
    },
    {
      "cell_type": "code",
      "metadata": {
        "id": "0vQQN7QDEGPU"
      },
      "source": [
        ""
      ],
      "execution_count": null,
      "outputs": []
    },
    {
      "cell_type": "code",
      "metadata": {
        "id": "mUYSHwSrAlCi"
      },
      "source": [
        "from tensorflow.keras.models import load_model\n",
        "model = load_model('model.h5')\n",
        "model.summary()"
      ],
      "execution_count": null,
      "outputs": []
    },
    {
      "cell_type": "code",
      "metadata": {
        "id": "Bh0jQFuvAiT1"
      },
      "source": [
        "def compute_text_and_questions(test, tokenizer):\n",
        "    test_text = tokenizer.texts_to_sequences(test.text.values)\n",
        "    test_questions = tokenizer.texts_to_sequences(test.question.values)\n",
        "    \n",
        "    test_text = sequence.pad_sequences(test_text, maxlen=300)\n",
        "    test_questions = sequence.pad_sequences(test_questions)\n",
        "    \n",
        "    return test_text, test_questions"
      ],
      "execution_count": null,
      "outputs": []
    },
    {
      "cell_type": "code",
      "metadata": {
        "id": "_VVTFv95AoC2"
      },
      "source": [
        "with open('./tokenizer.pickle', 'rb') as f:\n",
        "    tokenizer = pickle.load(f)"
      ],
      "execution_count": null,
      "outputs": []
    },
    {
      "cell_type": "code",
      "metadata": {
        "id": "O_ZVr_nsA65I"
      },
      "source": [
        "test_text, test_questions = compute_text_and_questions(test, tokenizer)"
      ],
      "execution_count": null,
      "outputs": []
    },
    {
      "cell_type": "code",
      "metadata": {
        "id": "NqINd8xwBG0T"
      },
      "source": [
        "del test['text']\n",
        "del test['question']"
      ],
      "execution_count": null,
      "outputs": []
    },
    {
      "cell_type": "markdown",
      "metadata": {
        "id": "eOQZJ_lvBQ5Q"
      },
      "source": [
        "### Prediction"
      ]
    },
    {
      "cell_type": "code",
      "metadata": {
        "id": "Mozay_1fBNA8"
      },
      "source": [
        "test_target = model.predict([test_text, test_questions], batch_size=512)"
      ],
      "execution_count": null,
      "outputs": []
    },
    {
      "cell_type": "code",
      "metadata": {
        "id": "vwo3D5RwBPQS"
      },
      "source": [
        "test['target'] = test_target\n",
        "\n",
        "result = (\n",
        "    test.query('target > 0.3')\n",
        "    .groupby('example_id')\n",
        "    .max()\n",
        "    .reset_index()\n",
        "    .loc[:, ['example_id', 'sequence']]\n",
        ")\n",
        "\n",
        "result.head()"
      ],
      "execution_count": null,
      "outputs": []
    },
    {
      "cell_type": "code",
      "metadata": {
        "id": "779vT90HBXBn"
      },
      "source": [
        "result = pd.concat([\n",
        "    result.assign(example_id=lambda example_id: example_id + '_long'),\n",
        "    result.assign(example_id=lambda example_id: example_id + '_short')\n",
        "])\n",
        "result.head()"
      ],
      "execution_count": null,
      "outputs": []
    },
    {
      "cell_type": "code",
      "metadata": {
        "id": "9Rv73QhQFJ0N"
      },
      "source": [
        "submission.head()"
      ],
      "execution_count": null,
      "outputs": []
    },
    {
      "cell_type": "code",
      "metadata": {
        "id": "J3x7TxoMBalt"
      },
      "source": [
        "final_submission = (\n",
        "    submission.drop(columns='PredictionString')\n",
        "    .merge(result, on=['example_id'], how='left')\n",
        ")\n",
        "\n",
        "final_submission.head()"
      ],
      "execution_count": null,
      "outputs": []
    },
    {
      "cell_type": "code",
      "metadata": {
        "id": "JMfwwi6_Bacn"
      },
      "source": [
        "final_submission.to_csv(\"submission.csv\", index=False)"
      ],
      "execution_count": null,
      "outputs": []
    },
    {
      "cell_type": "code",
      "metadata": {
        "id": "cfxVRUK_DoHQ"
      },
      "source": [
        ""
      ],
      "execution_count": null,
      "outputs": []
    }
  ]
}